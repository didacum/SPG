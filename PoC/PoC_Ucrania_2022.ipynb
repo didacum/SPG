{
 "cells": [
  {
   "cell_type": "markdown",
   "id": "02321b32",
   "metadata": {},
   "source": [
    "# Prueba de Concepto: Análisis del Conflicto de Ucrania 2022"
   ]
  },
  {
   "cell_type": "markdown",
   "id": "8281a2da",
   "metadata": {},
   "source": [
    "## 2. Configuración y adquisición de datos"
   ]
  },
  {
   "cell_type": "code",
   "execution_count": null,
   "id": "006b1927",
   "metadata": {},
   "outputs": [],
   "source": [
    "import pandas as pd\n",
    "import yfinance as yf\n",
    "from datetime import datetime\n",
    "\n",
    "# --- 1. Definición de Parámetros ---\n",
    "\n",
    "START_DATE = \"2020-02-24\"\n",
    "END_DATE = \"2022-02-23\"  \n",
    "\n",
    "\n",
    "# Creamos un diccionario con todos los tickers que queremos de Yahoo Finance\n",
    "TICKERS = {\n",
    "    \"rub\": \"RUB=X\",\n",
    "    \"gas\": \"TTF=F\",\n",
    "    \"brent\": \"BZ=F\",\n",
    "    \"trigo\": \"ZW=F\",\n",
    "    \"dax\": \"^GDAXI\",\n",
    "    \"stoxx\": \"^STOXX50E\",\n",
    "    \"vix\": \"^VIX\",\n",
    "    \"gold\": \"GC=F\"\n",
    "}\n",
    "\n",
    "# --- 2. Carga del Índice MOEX  ---\n",
    "\n",
    "try:\n",
    "    moex_df = pd.read_csv(\"data/moex_ucrania.csv\")\n",
    "    print(\"✅ Índice MOEX cargado correctamente.\")\n",
    "    # print(moex_df.head()) # Descomentar para inspeccionar\n",
    "except FileNotFoundError:\n",
    "    print(\"❌ ERROR: No se encontró el archivo 'data/moex_ucrania.csv'. Asegúrate de que el archivo existe en esa carpeta.\")\n",
    "\n",
    "# --- 3. Descarga de Datos desde yfinance ---\n",
    "\n",
    "# Usamos un diccionario para almacenar todos los dataframes descargados\n",
    "dataframes = {}\n",
    "\n",
    "for name, ticker in TICKERS.items():\n",
    "    print(f\"Descargando datos para {name} ({ticker})...\")\n",
    "    df = yf.download(ticker, start=START_DATE, end=END_DATE)\n",
    "    if not df.empty:\n",
    "        dataframes[name] = df\n",
    "        print(f\"✅ Datos para {name} descargados. {len(df)} filas.\")\n",
    "    else:\n",
    "        print(f\"⚠️ No se encontraron datos para {name} ({ticker}).\")\n",
    "\n",
    "# Acceso a un dataframe (ejemplo: Rublo)\n",
    "print(\"\\n--- Inspección Rápida de un DataFrame Descargado (Rublo) ---\")\n",
    "if 'rub' in dataframes:\n",
    "    rub_df = dataframes['rub']\n",
    "    print(rub_df.head())\n",
    "    date_close = rub_df[[\"Close\"]]\n",
    "    print(date_close.head())"
   ]
  }
 ],
 "metadata": {
  "kernelspec": {
   "display_name": "venv",
   "language": "python",
   "name": "python3"
  },
  "language_info": {
   "name": "python",
   "version": "3.12.9"
  }
 },
 "nbformat": 4,
 "nbformat_minor": 5
}
